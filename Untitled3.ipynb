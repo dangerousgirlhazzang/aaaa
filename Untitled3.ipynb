{
  "nbformat": 4,
  "nbformat_minor": 0,
  "metadata": {
    "colab": {
      "provenance": [],
      "authorship_tag": "ABX9TyPFHhkC/zVWOJIoUmGOMqqb",
      "include_colab_link": true
    },
    "kernelspec": {
      "name": "python3",
      "display_name": "Python 3"
    },
    "language_info": {
      "name": "python"
    }
  },
  "cells": [
    {
      "cell_type": "markdown",
      "metadata": {
        "id": "view-in-github",
        "colab_type": "text"
      },
      "source": [
        "<a href=\"https://colab.research.google.com/github/dangerousgirlhazzang/aaaa/blob/main/Untitled3.ipynb\" target=\"_parent\"><img src=\"https://colab.research.google.com/assets/colab-badge.svg\" alt=\"Open In Colab\"/></a>"
      ]
    },
    {
      "cell_type": "code",
      "execution_count": 1,
      "metadata": {
        "colab": {
          "base_uri": "https://localhost:8080/"
        },
        "id": "Jza3Owwva6LG",
        "outputId": "70df8397-5a20-45c1-d460-a9870a97ea3c"
      },
      "outputs": [
        {
          "output_type": "stream",
          "name": "stdout",
          "text": [
            "<?xml version=\"1.0\" encoding=\"UTF-8\" standalone=\"yes\"?><response><header><resultCode>0</resultCode><resultMsg>Success</resultMsg></header><body><totalCount>100</totalCount><items><item><Keyword>인터넷서신</Keyword><SearchNumber>486</SearchNumber></item><item><Keyword>임대차계약서</Keyword><SearchNumber>457</SearchNumber></item><item><Keyword>서신</Keyword><SearchNumber>289</SearchNumber></item><item><Keyword>통합신청서</Keyword><SearchNumber>257</SearchNumber></item><item><Keyword>비자</Keyword><SearchNumber>229</SearchNumber></item><item><Keyword>접견</Keyword><SearchNumber>227</SearchNumber></item><item><Keyword>주택임대차</Keyword><SearchNumber>190</SearchNumber></item><item><Keyword>청년인턴</Keyword><SearchNumber>169</SearchNumber></item><item><Keyword>접견예약</Keyword><SearchNumber>153</SearchNumber></item><item><Keyword>외국인</Keyword><SearchNumber>145</SearchNumber></item><item><Keyword>외국인등록증</Keyword><SearchNumber>132</SearchNumber></item><item><Keyword>면회</Keyword><SearchNumber>119</SearchNumber></item><item><Keyword>편지</Keyword><SearchNumber>117</SearchNumber></item><item><Keyword>채용</Keyword><SearchNumber>116</SearchNumber></item><item><Keyword>귀화</Keyword><SearchNumber>114</SearchNumber></item><item><Keyword>거소증</Keyword><SearchNumber>112</SearchNumber></item><item><Keyword>e7</Keyword><SearchNumber>112</SearchNumber></item><item><Keyword>계절근로자</Keyword><SearchNumber>109</SearchNumber></item><item><Keyword>영주권</Keyword><SearchNumber>107</SearchNumber></item><item><Keyword>인터넷편지</Keyword><SearchNumber>105</SearchNumber></item><item><Keyword>예약</Keyword><SearchNumber>102</SearchNumber></item><item><Keyword>초청장</Keyword><SearchNumber>92</SearchNumber></item><item><Keyword>지인등록</Keyword><SearchNumber>90</SearchNumber></item><item><Keyword>변호사시험</Keyword><SearchNumber>89</SearchNumber></item><item><Keyword>불법체류자</Keyword><SearchNumber>86</SearchNumber></item><item><Keyword>부동산임대차계약서</Keyword><SearchNumber>85</SearchNumber></item><item><Keyword>마약</Keyword><SearchNumber>83</SearchNumber></item><item><Keyword>마을변호사</Keyword><SearchNumber>82</SearchNumber></item><item><Keyword>신원보증서</Keyword><SearchNumber>81</SearchNumber></item><item><Keyword>영치금</Keyword><SearchNumber>79</SearchNumber></item><item><Keyword>가석방</Keyword><SearchNumber>76</SearchNumber></item><item><Keyword>진술조력인</Keyword><SearchNumber>75</SearchNumber></item><item><Keyword>서신 인터넷</Keyword><SearchNumber>73</SearchNumber></item><item><Keyword>비자 지역특화형</Keyword><SearchNumber>72</SearchNumber></item><item><Keyword>표준임대차계약서</Keyword><SearchNumber>71</SearchNumber></item><item><Keyword>비자연장</Keyword><SearchNumber>71</SearchNumber></item><item><Keyword>지역특화형</Keyword><SearchNumber>71</SearchNumber></item><item><Keyword>출입국</Keyword><SearchNumber>69</SearchNumber></item><item><Keyword>전자서신</Keyword><SearchNumber>65</SearchNumber></item><item><Keyword>주택임대차표준계약서</Keyword><SearchNumber>65</SearchNumber></item><item><Keyword>상가임대차계약서</Keyword><SearchNumber>65</SearchNumber></item><item><Keyword>임대차</Keyword><SearchNumber>62</SearchNumber></item><item><Keyword>위임장</Keyword><SearchNumber>58</SearchNumber></item><item><Keyword>국적</Keyword><SearchNumber>58</SearchNumber></item><item><Keyword>국적과</Keyword><SearchNumber>57</SearchNumber></item><item><Keyword>귀화면접심사</Keyword><SearchNumber>57</SearchNumber></item><item><Keyword>불법체류</Keyword><SearchNumber>56</SearchNumber></item><item><Keyword>접견신청</Keyword><SearchNumber>56</SearchNumber></item><item><Keyword>출국금지</Keyword><SearchNumber>56</SearchNumber></item><item><Keyword>방문예약</Keyword><SearchNumber>55</SearchNumber></item><item><Keyword>체류관리과</Keyword><SearchNumber>54</SearchNumber></item><item><Keyword>지정병원</Keyword><SearchNumber>53</SearchNumber></item><item><Keyword>사회통합프로그램</Keyword><SearchNumber>52</SearchNumber></item><item><Keyword>인턴</Keyword><SearchNumber>50</SearchNumber></item><item><Keyword>계약서</Keyword><SearchNumber>48</SearchNumber></item><item><Keyword>등록증 외국인</Keyword><SearchNumber>48</SearchNumber></item><item><Keyword>불법체류자 신고</Keyword><SearchNumber>48</SearchNumber></item><item><Keyword>전화</Keyword><SearchNumber>47</SearchNumber></item><item><Keyword>식단</Keyword><SearchNumber>46</SearchNumber></item><item><Keyword>수용자</Keyword><SearchNumber>45</SearchNumber></item><item><Keyword>특별사면</Keyword><SearchNumber>45</SearchNumber></item><item><Keyword>비영리법인</Keyword><SearchNumber>44</SearchNumber></item><item><Keyword>의사록</Keyword><SearchNumber>44</SearchNumber></item><item><Keyword>e74</Keyword><SearchNumber>44</SearchNumber></item><item><Keyword>임대차계약서양식</Keyword><SearchNumber>44</SearchNumber></item><item><Keyword>난민</Keyword><SearchNumber>43</SearchNumber></item><item><Keyword>사면</Keyword><SearchNumber>43</SearchNumber></item><item><Keyword>양식</Keyword><SearchNumber>43</SearchNumber></item><item><Keyword>사증</Keyword><SearchNumber>43</SearchNumber></item><item><Keyword>f4</Keyword><SearchNumber>42</SearchNumber></item><item><Keyword>계절근로</Keyword><SearchNumber>42</SearchNumber></item><item><Keyword>직업교육훈련교도소</Keyword><SearchNumber>41</SearchNumber></item><item><Keyword>체류자격</Keyword><SearchNumber>40</SearchNumber></item><item><Keyword>확정일자</Keyword><SearchNumber>39</SearchNumber></item><item><Keyword>지침</Keyword><SearchNumber>39</SearchNumber></item><item><Keyword>배상심의회</Keyword><SearchNumber>39</SearchNumber></item><item><Keyword>서울구치소</Keyword><SearchNumber>38</SearchNumber></item><item><Keyword>출입국사실증명서</Keyword><SearchNumber>38</SearchNumber></item><item><Keyword>수용번호</Keyword><SearchNumber>37</SearchNumber></item><item><Keyword>고시</Keyword><SearchNumber>37</SearchNumber></item><item><Keyword>국적회복</Keyword><SearchNumber>37</SearchNumber></item><item><Keyword>등록외국인</Keyword><SearchNumber>37</SearchNumber></item><item><Keyword>표준계약서</Keyword><SearchNumber>36</SearchNumber></item><item><Keyword>정관</Keyword><SearchNumber>36</SearchNumber></item><item><Keyword>인권구조과</Keyword><SearchNumber>36</SearchNumber></item><item><Keyword>혼인배경진술서</Keyword><SearchNumber>36</SearchNumber></item><item><Keyword>지역특화형비자</Keyword><SearchNumber>36</SearchNumber></item><item><Keyword>편지쓰기</Keyword><SearchNumber>35</SearchNumber></item><item><Keyword>의정부교도소</Keyword><SearchNumber>35</SearchNumber></item><item><Keyword>서식</Keyword><SearchNumber>35</SearchNumber></item><item><Keyword>회사편</Keyword><SearchNumber>35</SearchNumber></item><item><Keyword>아동학대</Keyword><SearchNumber>35</SearchNumber></item><item><Keyword>주택임대차계약서</Keyword><SearchNumber>34</SearchNumber></item><item><Keyword>공증</Keyword><SearchNumber>34</SearchNumber></item><item><Keyword>상가임대차</Keyword><SearchNumber>34</SearchNumber></item><item><Keyword>출입국관리사무소</Keyword><SearchNumber>34</SearchNumber></item><item><Keyword>h2</Keyword><SearchNumber>34</SearchNumber></item><item><Keyword>자진출국</Keyword><SearchNumber>34</SearchNumber></item><item><Keyword>보안업무규정 시행세칙</Keyword><SearchNumber>34</SearchNumber></item><item><Keyword>법령경연</Keyword><SearchNumber>33</SearchNumber></item></items></body></response>\n"
          ]
        }
      ],
      "source": [
        "import requests\n",
        "from bs4 import BeautifulSoup\n",
        "\n",
        "r= requests.get('http://apis.data.go.kr/1270000/lawyerdataApi/key_word?serviceKey=eFT9RXxBeSMQ1OqPMwP09UPvsngc3J7eHkSSl2d1nqqzFF3fQwQoqEJQdfM%2Fc%2BpaaPUMlwVcb%2F6rK%2BaSJ6t8uw%3D%3D')\n",
        "print(r.text)\n",
        "\n",
        "\n",
        "\n"
      ]
    },
    {
      "cell_type": "code",
      "source": [],
      "metadata": {
        "id": "5JAB2bTuipXC"
      },
      "execution_count": null,
      "outputs": []
    },
    {
      "cell_type": "code",
      "source": [
        "soup = BeautifulSoup(r.text, features=\"xml\")\n",
        "soup.find_all('Keyword')\n"
      ],
      "metadata": {
        "id": "RcpmlT14g83s",
        "colab": {
          "base_uri": "https://localhost:8080/"
        },
        "outputId": "e827cf64-5b4d-43cb-991e-e63b2d826f23"
      },
      "execution_count": 4,
      "outputs": [
        {
          "output_type": "execute_result",
          "data": {
            "text/plain": [
              "[<Keyword>인터넷서신</Keyword>,\n",
              " <Keyword>임대차계약서</Keyword>,\n",
              " <Keyword>서신</Keyword>,\n",
              " <Keyword>통합신청서</Keyword>,\n",
              " <Keyword>비자</Keyword>,\n",
              " <Keyword>접견</Keyword>,\n",
              " <Keyword>주택임대차</Keyword>,\n",
              " <Keyword>청년인턴</Keyword>,\n",
              " <Keyword>접견예약</Keyword>,\n",
              " <Keyword>외국인</Keyword>,\n",
              " <Keyword>외국인등록증</Keyword>,\n",
              " <Keyword>면회</Keyword>,\n",
              " <Keyword>편지</Keyword>,\n",
              " <Keyword>채용</Keyword>,\n",
              " <Keyword>귀화</Keyword>,\n",
              " <Keyword>거소증</Keyword>,\n",
              " <Keyword>e7</Keyword>,\n",
              " <Keyword>계절근로자</Keyword>,\n",
              " <Keyword>영주권</Keyword>,\n",
              " <Keyword>인터넷편지</Keyword>,\n",
              " <Keyword>예약</Keyword>,\n",
              " <Keyword>초청장</Keyword>,\n",
              " <Keyword>지인등록</Keyword>,\n",
              " <Keyword>변호사시험</Keyword>,\n",
              " <Keyword>불법체류자</Keyword>,\n",
              " <Keyword>부동산임대차계약서</Keyword>,\n",
              " <Keyword>마약</Keyword>,\n",
              " <Keyword>마을변호사</Keyword>,\n",
              " <Keyword>신원보증서</Keyword>,\n",
              " <Keyword>영치금</Keyword>,\n",
              " <Keyword>가석방</Keyword>,\n",
              " <Keyword>진술조력인</Keyword>,\n",
              " <Keyword>서신 인터넷</Keyword>,\n",
              " <Keyword>비자 지역특화형</Keyword>,\n",
              " <Keyword>표준임대차계약서</Keyword>,\n",
              " <Keyword>비자연장</Keyword>,\n",
              " <Keyword>지역특화형</Keyword>,\n",
              " <Keyword>출입국</Keyword>,\n",
              " <Keyword>전자서신</Keyword>,\n",
              " <Keyword>주택임대차표준계약서</Keyword>,\n",
              " <Keyword>상가임대차계약서</Keyword>,\n",
              " <Keyword>임대차</Keyword>,\n",
              " <Keyword>위임장</Keyword>,\n",
              " <Keyword>국적</Keyword>,\n",
              " <Keyword>국적과</Keyword>,\n",
              " <Keyword>귀화면접심사</Keyword>,\n",
              " <Keyword>불법체류</Keyword>,\n",
              " <Keyword>접견신청</Keyword>,\n",
              " <Keyword>출국금지</Keyword>,\n",
              " <Keyword>방문예약</Keyword>,\n",
              " <Keyword>체류관리과</Keyword>,\n",
              " <Keyword>지정병원</Keyword>,\n",
              " <Keyword>사회통합프로그램</Keyword>,\n",
              " <Keyword>인턴</Keyword>,\n",
              " <Keyword>계약서</Keyword>,\n",
              " <Keyword>등록증 외국인</Keyword>,\n",
              " <Keyword>불법체류자 신고</Keyword>,\n",
              " <Keyword>전화</Keyword>,\n",
              " <Keyword>식단</Keyword>,\n",
              " <Keyword>수용자</Keyword>,\n",
              " <Keyword>특별사면</Keyword>,\n",
              " <Keyword>비영리법인</Keyword>,\n",
              " <Keyword>의사록</Keyword>,\n",
              " <Keyword>e74</Keyword>,\n",
              " <Keyword>임대차계약서양식</Keyword>,\n",
              " <Keyword>난민</Keyword>,\n",
              " <Keyword>사면</Keyword>,\n",
              " <Keyword>양식</Keyword>,\n",
              " <Keyword>사증</Keyword>,\n",
              " <Keyword>f4</Keyword>,\n",
              " <Keyword>계절근로</Keyword>,\n",
              " <Keyword>직업교육훈련교도소</Keyword>,\n",
              " <Keyword>체류자격</Keyword>,\n",
              " <Keyword>확정일자</Keyword>,\n",
              " <Keyword>지침</Keyword>,\n",
              " <Keyword>배상심의회</Keyword>,\n",
              " <Keyword>서울구치소</Keyword>,\n",
              " <Keyword>출입국사실증명서</Keyword>,\n",
              " <Keyword>수용번호</Keyword>,\n",
              " <Keyword>고시</Keyword>,\n",
              " <Keyword>국적회복</Keyword>,\n",
              " <Keyword>등록외국인</Keyword>,\n",
              " <Keyword>표준계약서</Keyword>,\n",
              " <Keyword>정관</Keyword>,\n",
              " <Keyword>인권구조과</Keyword>,\n",
              " <Keyword>혼인배경진술서</Keyword>,\n",
              " <Keyword>지역특화형비자</Keyword>,\n",
              " <Keyword>편지쓰기</Keyword>,\n",
              " <Keyword>의정부교도소</Keyword>,\n",
              " <Keyword>서식</Keyword>,\n",
              " <Keyword>회사편</Keyword>,\n",
              " <Keyword>아동학대</Keyword>,\n",
              " <Keyword>주택임대차계약서</Keyword>,\n",
              " <Keyword>공증</Keyword>,\n",
              " <Keyword>상가임대차</Keyword>,\n",
              " <Keyword>출입국관리사무소</Keyword>,\n",
              " <Keyword>h2</Keyword>,\n",
              " <Keyword>자진출국</Keyword>,\n",
              " <Keyword>보안업무규정 시행세칙</Keyword>,\n",
              " <Keyword>법령경연</Keyword>]"
            ]
          },
          "metadata": {},
          "execution_count": 4
        }
      ]
    }
  ]
}