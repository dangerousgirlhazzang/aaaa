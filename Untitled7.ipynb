{
  "nbformat": 4,
  "nbformat_minor": 0,
  "metadata": {
    "colab": {
      "provenance": [],
      "authorship_tag": "ABX9TyOQixAHhMk1tIuLHDkSGQUL",
      "include_colab_link": true
    },
    "kernelspec": {
      "name": "python3",
      "display_name": "Python 3"
    },
    "language_info": {
      "name": "python"
    }
  },
  "cells": [
    {
      "cell_type": "markdown",
      "metadata": {
        "id": "view-in-github",
        "colab_type": "text"
      },
      "source": [
        "<a href=\"https://colab.research.google.com/github/dangerousgirlhazzang/aaaa/blob/main/Untitled7.ipynb\" target=\"_parent\"><img src=\"https://colab.research.google.com/assets/colab-badge.svg\" alt=\"Open In Colab\"/></a>"
      ]
    },
    {
      "cell_type": "code",
      "execution_count": 1,
      "metadata": {
        "colab": {
          "base_uri": "https://localhost:8080/"
        },
        "id": "ILK1X8a4HKIR",
        "outputId": "f0e961d0-82de-434e-bc77-a8fca5ce0a8d"
      },
      "outputs": [
        {
          "output_type": "stream",
          "name": "stdout",
          "text": [
            "Received HTTP/1.1 200 OK\r\n",
            "Date: Fri, 05 Apr 2024 07:40:01 GMT\r\n",
            "Expires: -1\r\n",
            "Cache-Control: private, max-age=0\r\n",
            "Content-Type: text/html; charset=ISO-8859-1\r\n",
            "Content-Security-Policy-Report-Only: object-src 'none';base-uri 'self';script-src 'nonce-NMN5ESQ0AEKxTPDrxyNgRA' 'strict-dynamic' 'report-sample' 'unsafe-eval' 'unsafe-inline' https: http:;report-uri https://csp.withgoogle.com/csp/gws/other-hp\r\n",
            "P3P: CP=\"This is not a P3P policy! See g.co/p3phelp for more info.\"\r\n",
            "Server: gws\r\n",
            "X-XSS-Protection: 0\r\n",
            "X-Frame-Options: SAMEORIGIN\r\n",
            "Set-Cookie: AEC=Ae3NU9MSctA3WXHKp9B4rRZzjUOEvLr6ze2NPsgRIbeag2PJd99UzLyGNw; expires=Wed, 02-Oct-2024 07:40:01 GMT; path=/; domain=.google.com; Secure; HttpOnly; SameSite=lax\r\n",
            "Set-Cookie: NID=513=S4NulvBf0UBDpJSdd8KNTerwZIhefO2AeakJfE6s80Uvmz_vBYaSyAjEDCJ-kw059igqWsUfwO6Vj8xwf-1Nnv5XcYBVZ1xrUfvWp9lmel1JMKRkn_R8J3JWBZZa7MyCY9Z9XqqhJM1tgd9ZZmA_avyUtScop7TBWYYC7_kWAN8; expires=Sat, 05-Oct-2024 07:40:01 GMT; path=/; domain=.google.com; HttpOnly\r\n",
            "Accept-Ranges: none\r\n",
            "Vary: Accept-Encoding\r\n",
            "Transfer-En\n"
          ]
        }
      ],
      "source": [
        "import socket\n",
        "\n",
        "HOST = \"172.217.161.206\"\n",
        "PORT = 80\n",
        "\n",
        "with socket.socket(socket.AF_INET, socket.SOCK_STREAM) as s:\n",
        "  s.connect((HOST, PORT))\n",
        "  s.sendall(b\"GET / HTTP/1.2\\n\\n\")\n",
        "  data = s.recv(1024)\n",
        "\n",
        "print(f\"Received {data.decode('utf-8')}\")"
      ]
    }
  ]
}