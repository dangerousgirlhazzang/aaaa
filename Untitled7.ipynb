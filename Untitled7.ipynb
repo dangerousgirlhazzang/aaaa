{
  "nbformat": 4,
  "nbformat_minor": 0,
  "metadata": {
    "colab": {
      "provenance": [],
      "authorship_tag": "ABX9TyOQixAHhMk1tIuLHDkSGQUL",
      "include_colab_link": true
    },
    "kernelspec": {
      "name": "python3",
      "display_name": "Python 3"
    },
    "language_info": {
      "name": "python"
    }
  },
  "cells": [
    {
      "cell_type": "markdown",
      "metadata": {
        "id": "view-in-github",
        "colab_type": "text"
      },
      "source": [
        "<a href=\"https://colab.research.google.com/github/dangerousgirlhazzang/aaaa/blob/main/Untitled7.ipynb\" target=\"_parent\"><img src=\"https://colab.research.google.com/assets/colab-badge.svg\" alt=\"Open In Colab\"/></a>"
      ]
    },
    {
      "cell_type": "code",
      "execution_count": 2,
      "metadata": {
        "colab": {
          "base_uri": "https://localhost:8080/"
        },
        "id": "ILK1X8a4HKIR",
        "outputId": "ad35bb36-5759-4af2-c543-aeda2149c1ce"
      },
      "outputs": [
        {
          "output_type": "stream",
          "name": "stdout",
          "text": [
            "Received HTTP/1.1 200 OK\r\n",
            "Date: Thu, 28 Mar 2024 04:27:30 GMT\r\n",
            "Expires: -1\r\n",
            "Cache-Control: private, max-age=0\r\n",
            "Content-Type: text/html; charset=ISO-8859-1\r\n",
            "Content-Security-Policy-Report-Only: object-src 'none';base-uri 'self';script-src 'nonce-sRzpzLyqTQGczrx5hu5H-w' 'strict-dynamic' 'report-sample' 'unsafe-eval' 'unsafe-inline' https: http:;report-uri https://csp.withgoogle.com/csp/gws/other-hp\r\n",
            "P3P: CP=\"This is not a P3P policy! See g.co/p3phelp for more info.\"\r\n",
            "Server: gws\r\n",
            "X-XSS-Protection: 0\r\n",
            "X-Frame-Options: SAMEORIGIN\r\n",
            "Set-Cookie: 1P_JAR=2024-03-28-04; expires=Sat, 27-Apr-2024 04:27:30 GMT; path=/; domain=.google.com; Secure\r\n",
            "Set-Cookie: AEC=Ae3NU9NQLnDr-V1UWxyL1XEq-upkvbA4XzgaDgnhTb_3yZftw79sDHKftLs; expires=Tue, 24-Sep-2024 04:27:30 GMT; path=/; domain=.google.com; Secure; HttpOnly; SameSite=lax\r\n",
            "Set-Cookie: NID=512=EmTDdADrJPxlkYLueJTVgF6p1RkT361-Mqeg7txCXO0FmT7VX-QZ0cC2R2hI-HBYv9AwFVr_uGZhdKNrxfHDIrQmOn5w8wRjUzL_Jn8SzB5unLPPZdfR-fvc1Zo9iQ4XVCrp50BDO00U3x0ru7f4_-qhHZmcltoFdREm1v2N3zI; expires=Fri, 27-Sep-20\n"
          ]
        }
      ],
      "source": [
        "import socket\n",
        "\n",
        "HOST = \"172.217.161.206\"\n",
        "PORT = 80\n",
        "\n",
        "with socket.socket(socket.AF_INET, socket.SOCK_STREAM) as s:\n",
        "  s.connect((HOST, PORT))\n",
        "  s.sendall(b\"GET / HTTP/1.2\\n\\n\")\n",
        "  data = s.recv(1024)\n",
        "\n",
        "print(f\"Received {data.decode('utf-8')}\")"
      ]
    }
  ]
}