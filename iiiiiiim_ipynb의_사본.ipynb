{
  "nbformat": 4,
  "nbformat_minor": 0,
  "metadata": {
    "colab": {
      "provenance": [],
      "authorship_tag": "ABX9TyNPBLgd7bVD5LsXctSl+WBn",
      "include_colab_link": true
    },
    "kernelspec": {
      "name": "python3",
      "display_name": "Python 3"
    },
    "language_info": {
      "name": "python"
    }
  },
  "cells": [
    {
      "cell_type": "markdown",
      "metadata": {
        "id": "view-in-github",
        "colab_type": "text"
      },
      "source": [
        "<a href=\"https://colab.research.google.com/github/dangerousgirlhazzang/aaaa/blob/main/iiiiiiim_ipynb%EC%9D%98_%EC%82%AC%EB%B3%B8.ipynb\" target=\"_parent\"><img src=\"https://colab.research.google.com/assets/colab-badge.svg\" alt=\"Open In Colab\"/></a>"
      ]
    },
    {
      "cell_type": "code",
      "execution_count": 4,
      "metadata": {
        "id": "UunWvpj0H7Fj",
        "colab": {
          "base_uri": "https://localhost:8080/"
        },
        "outputId": "cf73cd51-22d2-4e3f-f80d-d3ec671f867e"
      },
      "outputs": [
        {
          "output_type": "stream",
          "name": "stdout",
          "text": [
            "<?xml version=\"1.0\" encoding=\"UTF-8\" standalone=\"yes\"?><response><comMsgHeader/><msgHeader><queryTime>2024-03-15 15:17:57.828</queryTime><resultCode>0</resultCode><resultMessage>정상적으로 처리되었습니다.</resultMessage></msgHeader><msgBody><busLocationList><endBus>0</endBus><lowPlate>0</lowPlate><plateNo>경기77바2274</plateNo><plateType>3</plateType><remainSeatCnt>42</remainSeatCnt><routeId>234001740</routeId><stationId>219000592</stationId><stationSeq>60</stationSeq></busLocationList><busLocationList><endBus>0</endBus><lowPlate>0</lowPlate><plateNo>경기77바2104</plateNo><plateType>3</plateType><remainSeatCnt>36</remainSeatCnt><routeId>234001740</routeId><stationId>219000256</stationId><stationSeq>22</stationSeq></busLocationList><busLocationList><endBus>0</endBus><lowPlate>0</lowPlate><plateNo>경기77바2271</plateNo><plateType>3</plateType><remainSeatCnt>43</remainSeatCnt><routeId>234001740</routeId><stationId>277103716</stationId><stationSeq>77</stationSeq></busLocationList><busLocationList><endBus>0</endBus><lowPlate>0</lowPlate><plateNo>경기77바6556</plateNo><plateType>3</plateType><remainSeatCnt>45</remainSeatCnt><routeId>234001740</routeId><stationId>166000482</stationId><stationSeq>38</stationSeq></busLocationList><busLocationList><endBus>0</endBus><lowPlate>0</lowPlate><plateNo>경기77바2272</plateNo><plateType>3</plateType><remainSeatCnt>40</remainSeatCnt><routeId>234001740</routeId><stationId>167000429</stationId><stationSeq>46</stationSeq></busLocationList></msgBody></response>\n"
          ]
        }
      ],
      "source": [
        "import requests\n",
        "url ='http://openapi.gbis.go.kr/ws/rest/buslocationservice?serviceKey=1234567890&routeId=234001740'\n",
        "r= requests.get(url)\n",
        "print(r.text)"
      ]
    },
    {
      "cell_type": "code",
      "source": [
        "from bs4 import BeautifulSoup\n",
        "soup = BeautifulSoup(r.text, features=\"xml\")"
      ],
      "metadata": {
        "id": "uV4F5RM_LqJn"
      },
      "execution_count": 5,
      "outputs": []
    },
    {
      "cell_type": "code",
      "source": [
        "soup.find_all('stationId')"
      ],
      "metadata": {
        "colab": {
          "base_uri": "https://localhost:8080/"
        },
        "id": "PvDkZ0FOPLUY",
        "outputId": "a574aeda-cfd7-4c94-a0d6-0fc72ecd903a"
      },
      "execution_count": 6,
      "outputs": [
        {
          "output_type": "execute_result",
          "data": {
            "text/plain": [
              "[<stationId>219000592</stationId>,\n",
              " <stationId>219000256</stationId>,\n",
              " <stationId>277103716</stationId>,\n",
              " <stationId>166000482</stationId>,\n",
              " <stationId>167000429</stationId>]"
            ]
          },
          "metadata": {},
          "execution_count": 6
        }
      ]
    }
  ]
}