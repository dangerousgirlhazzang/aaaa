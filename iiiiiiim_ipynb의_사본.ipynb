{
  "nbformat": 4,
  "nbformat_minor": 0,
  "metadata": {
    "colab": {
      "provenance": [],
      "authorship_tag": "ABX9TyM5k6dcZfuGn4RU50K9BihF",
      "include_colab_link": true
    },
    "kernelspec": {
      "name": "python3",
      "display_name": "Python 3"
    },
    "language_info": {
      "name": "python"
    }
  },
  "cells": [
    {
      "cell_type": "markdown",
      "metadata": {
        "id": "view-in-github",
        "colab_type": "text"
      },
      "source": [
        "<a href=\"https://colab.research.google.com/github/dangerousgirlhazzang/aaaa/blob/main/iiiiiiim_ipynb%EC%9D%98_%EC%82%AC%EB%B3%B8.ipynb\" target=\"_parent\"><img src=\"https://colab.research.google.com/assets/colab-badge.svg\" alt=\"Open In Colab\"/></a>"
      ]
    },
    {
      "cell_type": "code",
      "execution_count": 4,
      "metadata": {
        "id": "UunWvpj0H7Fj",
        "colab": {
          "base_uri": "https://localhost:8080/"
        },
        "outputId": "9a3195c3-b2ac-4434-b132-a815fcef7ac5"
      },
      "outputs": [
        {
          "output_type": "stream",
          "name": "stdout",
          "text": [
            "<?xml version=\"1.0\" encoding=\"UTF-8\" standalone=\"yes\"?><response><comMsgHeader/><msgHeader><queryTime>2024-03-14 13:34:46.620</queryTime><resultCode>0</resultCode><resultMessage>정상적으로 처리되었습니다.</resultMessage></msgHeader><msgBody><busLocationList><endBus>0</endBus><lowPlate>0</lowPlate><plateNo>경기70사1181</plateNo><plateType>3</plateType><remainSeatCnt>43</remainSeatCnt><routeId>233000031</routeId><stationId>202000217</stationId><stationSeq>66</stationSeq></busLocationList><busLocationList><endBus>0</endBus><lowPlate>0</lowPlate><plateNo>경기70사1502</plateNo><plateType>3</plateType><remainSeatCnt>29</remainSeatCnt><routeId>233000031</routeId><stationId>277103201</stationId><stationSeq>41</stationSeq></busLocationList><busLocationList><endBus>0</endBus><lowPlate>0</lowPlate><plateNo>경기70사1692</plateNo><plateType>3</plateType><remainSeatCnt>44</remainSeatCnt><routeId>233000031</routeId><stationId>277101594</stationId><stationSeq>3</stationSeq></busLocationList><busLocationList><endBus>0</endBus><lowPlate>0</lowPlate><plateNo>경기70사1168</plateNo><plateType>3</plateType><remainSeatCnt>41</remainSeatCnt><routeId>233000031</routeId><stationId>200000185</stationId><stationSeq>56</stationSeq></busLocationList><busLocationList><endBus>0</endBus><lowPlate>0</lowPlate><plateNo>경기70사1185</plateNo><plateType>3</plateType><remainSeatCnt>44</remainSeatCnt><routeId>233000031</routeId><stationId>277103537</stationId><stationSeq>34</stationSeq></busLocationList><busLocationList><endBus>0</endBus><lowPlate>0</lowPlate><plateNo>경기70사1183</plateNo><plateType>3</plateType><remainSeatCnt>28</remainSeatCnt><routeId>233000031</routeId><stationId>200000186</stationId><stationSeq>15</stationSeq></busLocationList><busLocationList><endBus>0</endBus><lowPlate>0</lowPlate><plateNo>경기70사1612</plateNo><plateType>3</plateType><remainSeatCnt>44</remainSeatCnt><routeId>233000031</routeId><stationId>121001315</stationId><stationSeq>33</stationSeq></busLocationList><busLocationList><endBus>0</endBus><lowPlate>0</lowPlate><plateNo>경기70사1671</plateNo><plateType>4</plateType><remainSeatCnt>57</remainSeatCnt><routeId>233000031</routeId><stationId>277103322</stationId><stationSeq>46</stationSeq></busLocationList><busLocationList><endBus>0</endBus><lowPlate>0</lowPlate><plateNo>경기70사1669</plateNo><plateType>4</plateType><remainSeatCnt>54</remainSeatCnt><routeId>233000031</routeId><stationId>220000020</stationId><stationSeq>31</stationSeq></busLocationList><busLocationList><endBus>0</endBus><lowPlate>0</lowPlate><plateNo>경기70사1653</plateNo><plateType>3</plateType><remainSeatCnt>44</remainSeatCnt><routeId>233000031</routeId><stationId>202000201</stationId><stationSeq>63</stationSeq></busLocationList><busLocationList><endBus>0</endBus><lowPlate>0</lowPlate><plateNo>경기70사1637</plateNo><plateType>3</plateType><remainSeatCnt>38</remainSeatCnt><routeId>233000031</routeId><stationId>200000146</stationId><stationSeq>20</stationSeq></busLocationList><busLocationList><endBus>0</endBus><lowPlate>0</lowPlate><plateNo>경기70사1192</plateNo><plateType>3</plateType><remainSeatCnt>44</remainSeatCnt><routeId>233000031</routeId><stationId>202000088</stationId><stationSeq>4</stationSeq></busLocationList><busLocationList><endBus>0</endBus><lowPlate>0</lowPlate><plateNo>경기70사1169</plateNo><plateType>3</plateType><remainSeatCnt>44</remainSeatCnt><routeId>233000031</routeId><stationId>277101594</stationId><stationSeq>3</stationSeq></busLocationList><busLocationList><endBus>0</endBus><lowPlate>0</lowPlate><plateNo>경기70사1501</plateNo><plateType>3</plateType><remainSeatCnt>39</remainSeatCnt><routeId>233000031</routeId><stationId>220000009</stationId><stationSeq>38</stationSeq></busLocationList><busLocationList><endBus>0</endBus><lowPlate>0</lowPlate><plateNo>경기70사1668</plateNo><plateType>4</plateType><remainSeatCnt>66</remainSeatCnt><routeId>233000031</routeId><stationId>202000202</stationId><stationSeq>61</stationSeq></busLocationList><busLocationList><endBus>0</endBus><lowPlate>0</lowPlate><plateNo>경기70사1636</plateNo><plateType>3</plateType><remainSeatCnt>39</remainSeatCnt><routeId>233000031</routeId><stationId>200000195</stationId><stationSeq>53</stationSeq></busLocationList><busLocationList><endBus>0</endBus><lowPlate>0</lowPlate><plateNo>경기70사1691</plateNo><plateType>3</plateType><remainSeatCnt>39</remainSeatCnt><routeId>233000031</routeId><stationId>202000205</stationId><stationSeq>8</stationSeq></busLocationList><busLocationList><endBus>0</endBus><lowPlate>0</lowPlate><plateNo>경기70사1152</plateNo><plateType>3</plateType><remainSeatCnt>40</remainSeatCnt><routeId>233000031</routeId><stationId>200000188</stationId><stationSeq>12</stationSeq></busLocationList><busLocationList><endBus>0</endBus><lowPlate>0</lowPlate><plateNo>경기70사1198</plateNo><plateType>3</plateType><remainSeatCnt>21</remainSeatCnt><routeId>233000031</routeId><stationId>277103200</stationId><stationSeq>28</stationSeq></busLocationList><busLocationList><endBus>0</endBus><lowPlate>0</lowPlate><plateNo>경기70사1672</plateNo><plateType>4</plateType><remainSeatCnt>52</remainSeatCnt><routeId>233000031</routeId><stationId>277104640</stationId><stationSeq>22</stationSeq></busLocationList><busLocationList><endBus>0</endBus><lowPlate>0</lowPlate><plateNo>경기70사1650</plateNo><plateType>3</plateType><remainSeatCnt>40</remainSeatCnt><routeId>233000031</routeId><stationId>226000039</stationId><stationSeq>25</stationSeq></busLocationList><busLocationList><endBus>0</endBus><lowPlate>0</lowPlate><plateNo>경기70사1670</plateNo><plateType>4</plateType><remainSeatCnt>65</remainSeatCnt><routeId>233000031</routeId><stationId>277102049</stationId><stationSeq>36</stationSeq></busLocationList></msgBody></response>\n"
          ]
        }
      ],
      "source": [
        "import requests\n",
        "url ='http://openapi.gbis.go.kr/ws/rest/buslocationservice?serviceKey=1234567890&routeId=233000031'\n",
        "r= requests.get(url)\n",
        "print(r.text)"
      ]
    },
    {
      "cell_type": "code",
      "source": [
        "from bs4 import BeautifulSoup\n",
        "soup = BeautifulSoup(r.text, features=\"xml\")"
      ],
      "metadata": {
        "id": "uV4F5RM_LqJn"
      },
      "execution_count": 5,
      "outputs": []
    },
    {
      "cell_type": "code",
      "source": [
        "soup.find_all('stationId')"
      ],
      "metadata": {
        "colab": {
          "base_uri": "https://localhost:8080/"
        },
        "id": "PvDkZ0FOPLUY",
        "outputId": "5d75b75d-7929-47ef-e0ad-56f3b5984624"
      },
      "execution_count": 6,
      "outputs": [
        {
          "output_type": "execute_result",
          "data": {
            "text/plain": [
              "[<stationId>202000217</stationId>,\n",
              " <stationId>277103201</stationId>,\n",
              " <stationId>277101594</stationId>,\n",
              " <stationId>200000185</stationId>,\n",
              " <stationId>277103537</stationId>,\n",
              " <stationId>200000186</stationId>,\n",
              " <stationId>121001315</stationId>,\n",
              " <stationId>277103322</stationId>,\n",
              " <stationId>220000020</stationId>,\n",
              " <stationId>202000201</stationId>,\n",
              " <stationId>200000146</stationId>,\n",
              " <stationId>202000088</stationId>,\n",
              " <stationId>277101594</stationId>,\n",
              " <stationId>220000009</stationId>,\n",
              " <stationId>202000202</stationId>,\n",
              " <stationId>200000195</stationId>,\n",
              " <stationId>202000205</stationId>,\n",
              " <stationId>200000188</stationId>,\n",
              " <stationId>277103200</stationId>,\n",
              " <stationId>277104640</stationId>,\n",
              " <stationId>226000039</stationId>,\n",
              " <stationId>277102049</stationId>]"
            ]
          },
          "metadata": {},
          "execution_count": 6
        }
      ]
    }
  ]
}